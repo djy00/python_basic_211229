{
 "cells": [
  {
   "cell_type": "markdown",
   "id": "8c57506a",
   "metadata": {},
   "source": [
    "# 파이썬 기초\n",
    "## 파이썬 이란\n",
    "- 1990년 암스테르담의 귀도 반 로섬(Guido Van Rossum)이 개발한 인터프리터 언어\n",
    "- 컴퓨터 프로그래밍 교육을 위해 많이 사용하지만, 기업의 실무를 위해서도 많이 사용하는 언어. 구글에서 만든 소프트웨어의 50%이상이 파이썬으로 작성\n",
    "## 파이썬의 특징\n",
    "- 파이썬은 인간다운 언어이다\n",
    "- 파이썬은 문법이 쉬워 빠르게 배울 수 있다\n",
    "- 파이썬은 무료이지만 강력하다\n",
    "- 파이썬은 간결하다\n",
    "- 파이썬은 프로그래밍을 즐기게 해준다\n",
    "- 파이썬은 개발 속도가 빠르다\n",
    "## 파이썬으로 할 수 있는 일\n",
    "- 시스템 유틸리티 제작\n",
    "- GUI 프로그래밍\n",
    "- C/C++와의 결합\n",
    "- 웹 프로그래밍\n",
    "- 수치 연산 프로그래밍\n",
    "- 데이터베이스 프로그래밍\n",
    "- 데이터 분석, 사물 인터넷\n",
    "## 참조\n",
    "- 표현식 : 어떠한 값을 만들어 내는 간단한 코드. 273, 10 + 20 + 30, \"Python Programming\"\n",
    "- 문장 : 표현식이 하나 이상 모이면 문장. print(\"Hello\")\n",
    "- 프로그램 : 문장이 모여서 프로그램\n",
    "- 식별자 : 프로그램밍 언어에서 이름을 붙일 때 사용하는 단어. 주로 변수 또는 함수 이름 등으로 사용\n",
    "- 주석 : 프로그램을 설명하기 위해 사용. # 기호로 주석 처리\n",
    "- 연산자 : 스스로 값이 되는 것이 아니고 값과 값 사이에 무언가 기능을 적용할 때 사용\n",
    "- 자료 : 리터럴이라고 하는데 숫자이든 문자이든 어떠한 값 자체를 의미. 1, 10, \"Hello\"\n",
    "- 키워드 : 파이썬이 만들어질 때 이미 사용하겠다고 예약해 놓는 것. False, None, True, ...\n",
    "- 프로그램밍 언어에서 사용자가 이름을 정할 때 키워드는 사용할 수 없음"
   ]
  },
  {
   "cell_type": "code",
   "execution_count": 8,
   "id": "c0bb54c6",
   "metadata": {},
   "outputs": [
    {
     "name": "stdout",
     "output_type": "stream",
     "text": [
      "Python 3.8.12\n"
     ]
    }
   ],
   "source": [
    "!python -V"
   ]
  },
  {
   "cell_type": "code",
   "execution_count": 17,
   "id": "0aba22c1",
   "metadata": {},
   "outputs": [
    {
     "name": "stdout",
     "output_type": "stream",
     "text": [
      "273\n"
     ]
    },
    {
     "data": {
      "text/plain": [
       "'python programming'"
      ]
     },
     "execution_count": 17,
     "metadata": {},
     "output_type": "execute_result"
    }
   ],
   "source": [
    "#표현식\n",
    "print(273)\n",
    "10+20+30         #print를 안주면 맨 밑에 식만 출력\n",
    "\n",
    "'python programming'"
   ]
  },
  {
   "cell_type": "code",
   "execution_count": 18,
   "id": "36dcdae4",
   "metadata": {},
   "outputs": [
    {
     "name": "stdout",
     "output_type": "stream",
     "text": [
      "Hello Python\n",
      "52 Hello Python 8\n"
     ]
    }
   ],
   "source": [
    "# 표현식이 하나 이상씩 모이면 문장\n",
    "print(\"Hello Python\")\n",
    "print(52,\"Hello Python\", 5+3)"
   ]
  },
  {
   "cell_type": "code",
   "execution_count": 22,
   "id": "371600f1",
   "metadata": {},
   "outputs": [
    {
     "name": "stdout",
     "output_type": "stream",
     "text": [
      "2\n"
     ]
    }
   ],
   "source": [
    "#문장이 모여서 프로그램\n",
    "a=1;b=1;c=a+b\n",
    "print(c)"
   ]
  },
  {
   "cell_type": "code",
   "execution_count": 28,
   "id": "f919724f",
   "metadata": {},
   "outputs": [
    {
     "name": "stdout",
     "output_type": "stream",
     "text": [
      "['False', 'None', 'True', 'and', 'as', 'assert', 'async', 'await', 'break', 'class', 'continue', 'def', 'del', 'elif', 'else', 'except', 'finally', 'for', 'from', 'global', 'if', 'import', 'in', 'is', 'lambda', 'nonlocal', 'not', 'or', 'pass', 'raise', 'return', 'try', 'while', 'with', 'yield'] \n",
      "\n",
      "35\n"
     ]
    }
   ],
   "source": [
    "#파이썬 키워드\n",
    "\n",
    "import keyword\n",
    "print(keyword.kwlist,'\\n')\n",
    "\n",
    "print(len(keyword.kwlist))"
   ]
  },
  {
   "cell_type": "markdown",
   "id": "88277bfc",
   "metadata": {},
   "source": [
    "### 식별자 기본 규칙\n",
    "\n",
    "- 키워드를 사용하면 안된다.\n",
    "- 특수문자는 언더 바(_)만 사용한다.\n",
    "- 숫자로 시작하면 안된다.\n",
    "- 공백을 포함할 수 없다."
   ]
  },
  {
   "cell_type": "code",
   "execution_count": 29,
   "id": "8b433150",
   "metadata": {},
   "outputs": [
    {
     "ename": "SyntaxError",
     "evalue": "invalid syntax (Temp/ipykernel_10040/3303675845.py, line 5)",
     "output_type": "error",
     "traceback": [
      "\u001b[1;36m  File \u001b[1;32m\"C:\\Users\\ns2ju\\AppData\\Local\\Temp/ipykernel_10040/3303675845.py\"\u001b[1;36m, line \u001b[1;32m5\u001b[0m\n\u001b[1;33m    273alpha # 숫자\u001b[0m\n\u001b[1;37m       ^\u001b[0m\n\u001b[1;31mSyntaxError\u001b[0m\u001b[1;31m:\u001b[0m invalid syntax\n"
     ]
    }
   ],
   "source": [
    "alpha\n",
    "break #키워드\n",
    "alpha10\n",
    "_alpha\n",
    "273alpha # 숫자\n",
    "AlpHa\n",
    "has space #공백\n",
    "#은 다 사용불가"
   ]
  },
  {
   "cell_type": "markdown",
   "id": "4d158d41",
   "metadata": {},
   "source": [
    "https://bibi6666667.tistory.com/277\n",
    "#### Camel case, Kebab case, Snake case 그리고 Pascal case\n",
    "\n",
    "- itemlist item_list ItemList\n",
    "- loginstatus login_status LoginStatus\n",
    "- 캐일 케이스(대문자로 시작) 클래스\n",
    "- 스네이크 케이스(소문자로 시작)뒤에 ()가 있다 -함수\n",
    "- 스네이크 케이스(소문자로 시작)뒤에()가 없다 -변수\n"
   ]
  },
  {
   "cell_type": "code",
   "execution_count": 31,
   "id": "19e39896",
   "metadata": {},
   "outputs": [
    {
     "name": "stdout",
     "output_type": "stream",
     "text": [
      "3이 있습니다.\n"
     ]
    }
   ],
   "source": [
    "# 사람이 생각하는 방식을 그대로 표현할 수 있는 언어\n",
    "\n",
    "if 3 in [1,2,3,4]: print('3이 있습니다.')  #조건문은 :(콜론)으로 구분\n",
    "    "
   ]
  },
  {
   "cell_type": "code",
   "execution_count": 37,
   "id": "86ae8106",
   "metadata": {},
   "outputs": [
    {
     "name": "stdout",
     "output_type": "stream",
     "text": [
      "2가 있습니다.\n",
      "A가 있습니다.\n"
     ]
    }
   ],
   "source": [
    "#연습\n",
    "\n",
    "if 2 in [1,2,3,4]:print('2가 있습니다.')\n",
    "\n",
    "    \n",
    "if 'A' in ['A','B','C']:print('A가 있습니다.')"
   ]
  },
  {
   "cell_type": "code",
   "execution_count": 42,
   "id": "410deea0",
   "metadata": {},
   "outputs": [
    {
     "name": "stdout",
     "output_type": "stream",
     "text": [
      "123\n",
      "-123\n",
      "0\n",
      "1.23\n",
      "127\n",
      "2748\n",
      "42\n"
     ]
    }
   ],
   "source": [
    "#파이썬 자료형 - 숫자형(정수, 실수, 8진수, 16진수)\n",
    "a =123\n",
    "b =-123\n",
    "c= 0\n",
    "d= 1.23\n",
    "e =0o177  #8진수 0o로 시작\n",
    "f=0xABC  #16진수 0x로 시작\n",
    "g=0b101010 #2진수는 0b로 시작\n",
    "print(a)\n",
    "print(b)\n",
    "print(c)\n",
    "print(d)\n",
    "print(e)\n",
    "print(f)\n",
    "print(g)"
   ]
  },
  {
   "cell_type": "code",
   "execution_count": 44,
   "id": "7e13aedf",
   "metadata": {},
   "outputs": [
    {
     "name": "stdout",
     "output_type": "stream",
     "text": [
      "10\n",
      "2\n",
      "12\n",
      "20\n",
      "5.0\n",
      "0\n",
      "5\n",
      "8\n"
     ]
    }
   ],
   "source": [
    "# 사칙연산\n",
    "a=10\n",
    "b=2\n",
    "c=a+b\n",
    "d=a*b\n",
    "e=a/b\n",
    "f=a%b\n",
    "g=a//b  #몫\n",
    "h = 2**3  #제곱\n",
    "\n",
    "print(a)\n",
    "print(b)\n",
    "print(c)\n",
    "print(d)\n",
    "print(e)\n",
    "print(f)\n",
    "print(g)\n",
    "print(h)\n"
   ]
  },
  {
   "cell_type": "code",
   "execution_count": 48,
   "id": "9ee7fbd1",
   "metadata": {},
   "outputs": [
    {
     "ename": "TypeError",
     "evalue": "can only concatenate str (not \"int\") to str",
     "output_type": "error",
     "traceback": [
      "\u001b[1;31m---------------------------------------------------------------------------\u001b[0m",
      "\u001b[1;31mTypeError\u001b[0m                                 Traceback (most recent call last)",
      "\u001b[1;32m~\\AppData\\Local\\Temp/ipykernel_10040/457603288.py\u001b[0m in \u001b[0;36m<module>\u001b[1;34m\u001b[0m\n\u001b[0;32m      2\u001b[0m \u001b[0mstring\u001b[0m \u001b[1;33m=\u001b[0m\u001b[1;34m\"문자열\"\u001b[0m\u001b[1;33m\u001b[0m\u001b[1;33m\u001b[0m\u001b[0m\n\u001b[0;32m      3\u001b[0m \u001b[0mnumber\u001b[0m \u001b[1;33m=\u001b[0m\u001b[1;36m273\u001b[0m\u001b[1;33m\u001b[0m\u001b[1;33m\u001b[0m\u001b[0m\n\u001b[1;32m----> 4\u001b[1;33m \u001b[0mstring\u001b[0m \u001b[1;33m+\u001b[0m \u001b[0mnumber\u001b[0m \u001b[1;31m#문자와 숫자는 붙일 수가 없다\u001b[0m\u001b[1;33m\u001b[0m\u001b[1;33m\u001b[0m\u001b[0m\n\u001b[0m",
      "\u001b[1;31mTypeError\u001b[0m: can only concatenate str (not \"int\") to str"
     ]
    }
   ],
   "source": [
    "#다른 타입간 연산은 안됨\n",
    "string =\"문자열\"\n",
    "number =273\n",
    "string + number #문자와 숫자는 붙일 수가 없다\n"
   ]
  },
  {
   "cell_type": "code",
   "execution_count": 50,
   "id": "a8895963",
   "metadata": {},
   "outputs": [
    {
     "data": {
      "text/plain": [
       "int"
      ]
     },
     "execution_count": 50,
     "metadata": {},
     "output_type": "execute_result"
    }
   ],
   "source": [
    "a=10\n",
    "a=\"문자\"\n",
    "a=10\n",
    "type(a)"
   ]
  },
  {
   "cell_type": "code",
   "execution_count": 54,
   "id": "83b33797",
   "metadata": {},
   "outputs": [
    {
     "name": "stdout",
     "output_type": "stream",
     "text": [
      "10.0 \n",
      "\n",
      "10.0\n"
     ]
    }
   ],
   "source": [
    "#연습\n",
    "\n",
    "num = 100\n",
    "num /=10\n",
    "print(num,'\\n')\n",
    "num =100\n",
    "num +=100\n",
    "num /=20\n",
    "print(num)\n"
   ]
  },
  {
   "cell_type": "code",
   "execution_count": 56,
   "id": "6814feb4",
   "metadata": {},
   "outputs": [
    {
     "name": "stdout",
     "output_type": "stream",
     "text": [
      "인사말을 입력하세요: aa\n"
     ]
    },
    {
     "data": {
      "text/plain": [
       "'aa'"
      ]
     },
     "execution_count": 56,
     "metadata": {},
     "output_type": "execute_result"
    }
   ],
   "source": [
    "# 사용자입력\n",
    "input('인사말을 입력하세요: ')"
   ]
  },
  {
   "cell_type": "markdown",
   "id": "2bb54b49",
   "metadata": {},
   "source": [
    "##### 사용자입력\n",
    "num = input('숫자를 입력하세요: ')\n",
    "print(num)\n",
    "type(num)"
   ]
  },
  {
   "cell_type": "code",
   "execution_count": 7,
   "id": "26cc78e3",
   "metadata": {},
   "outputs": [
    {
     "name": "stdout",
     "output_type": "stream",
     "text": [
      "숫자를 입력하세요\n",
      "숫자를 입력하세요\n",
      "\n"
     ]
    }
   ],
   "source": [
    "num1 = input('숫자를 입력하세요')\n",
    "num2 = input('숫자를 입력하세요')\n",
    "print(num1 + num2)\n",
    "## 문자열로 받아들여 연산을 하려면 밑에처럼 바꿔줘야함\n"
   ]
  },
  {
   "cell_type": "code",
   "execution_count": 8,
   "id": "8443d7bf",
   "metadata": {},
   "outputs": [
    {
     "name": "stdout",
     "output_type": "stream",
     "text": [
      "숫자를 입력하세요3\n",
      "숫자를 입력하세요3\n",
      "6\n"
     ]
    }
   ],
   "source": [
    "num1 = input('숫자를 입력하세요')\n",
    "num1_n= int(num1)\n",
    "num2 = input('숫자를 입력하세요')\n",
    "num2_n= int(num2)\n",
    "print(num1_n + num2_n)"
   ]
  },
  {
   "cell_type": "code",
   "execution_count": 6,
   "id": "f92548b7",
   "metadata": {},
   "outputs": [
    {
     "name": "stdout",
     "output_type": "stream",
     "text": [
      "숫자를 입력하세요3\n",
      "숫자를 입력하세요3.3\n",
      "6.3\n"
     ]
    }
   ],
   "source": [
    "#연습\n",
    "#Q. 3과 3.3을 입력하고 숫자연산을 수행하여 6.3을 출력하세요.\n",
    "\n",
    "num1 = input('숫자를 입력하세요')\n",
    "num1_n= int(num1)\n",
    "num2 = input('숫자를 입력하세요')\n",
    "num2_n= float(num2)\n",
    "print(num1_n + num2_n)"
   ]
  },
  {
   "cell_type": "code",
   "execution_count": 10,
   "id": "4adc522c",
   "metadata": {},
   "outputs": [
    {
     "name": "stdout",
     "output_type": "stream",
     "text": [
      "5252.273\n"
     ]
    }
   ],
   "source": [
    "#연습\n",
    "#Q. a= 52 와 b = 52.273일대 a+b는 5252.273으로 출력되도록 a와 b를 문자얼 자료형으로 변환하세요.\n",
    "\n",
    "a= 52\n",
    "b= 52.273\n",
    "a_s=str(a)\n",
    "b_s=str(b)\n",
    "print(a_s + b_s)\n"
   ]
  },
  {
   "cell_type": "code",
   "execution_count": 14,
   "id": "faf02d4e",
   "metadata": {},
   "outputs": [],
   "source": [
    "# 문자열 : \"\", '', \"\"\"\"\"\", ''''''\n",
    "p1 = \"python's value is great\"\n",
    "# p2 = 'python's value is great'   ==> 중간에 있는 작은따옴표 때문에 문자열이 잘림\n",
    "# s1= \"\"pythons is valuable\" he say\" ==> 큰따옴표가 문자열안에 있으므로 작은따옴표를 사용하여 문자열 표기\n",
    "s2= '\"pythons is valuable\" he say'"
   ]
  },
  {
   "cell_type": "code",
   "execution_count": 16,
   "id": "00a25e3f",
   "metadata": {},
   "outputs": [
    {
     "name": "stdout",
     "output_type": "stream",
     "text": [
      "Once you study data analysis\n",
      "You need Python\n",
      "Once you study data analysis\n",
      "you need Python\n",
      "Once you study data analysis\n",
      "you need Python\n"
     ]
    }
   ],
   "source": [
    "y1= \"Once you study data analysis\\nYou need Python\"\n",
    "print(y1)\n",
    "y2 = '''Once you study data analysis\n",
    "you need Python'''\n",
    "print(y2)\n",
    "y3 = \"\"\"Once you study data analysis\n",
    "you need Python\"\"\"\n",
    "print(y3)"
   ]
  },
  {
   "cell_type": "code",
   "execution_count": 21,
   "id": "8f524a3d",
   "metadata": {},
   "outputs": [
    {
     "name": "stdout",
     "output_type": "stream",
     "text": [
      "a\n",
      "b\n",
      "c\n",
      "d\n",
      "\n"
     ]
    }
   ],
   "source": [
    "#연습\n",
    "s='''a\n",
    "b\n",
    "c\n",
    "d\n",
    "'''\n",
    "print(s)"
   ]
  },
  {
   "cell_type": "code",
   "execution_count": 3,
   "id": "82e56c4e",
   "metadata": {},
   "outputs": [
    {
     "name": "stdout",
     "output_type": "stream",
     "text": [
      "숫자: 11\n",
      "10보다 큽니다.\n"
     ]
    }
   ],
   "source": [
    "#연습2\n",
    "\n",
    "num=input(\"숫자: \")\n",
    "num_i=int(num)\n",
    "\n",
    "if num_i<=10:\n",
    "    print(\"10보다 작습니다.\")\n",
    "else: \n",
    "    print(\"10보다 큽니다.\")\n",
    "    "
   ]
  },
  {
   "cell_type": "code",
   "execution_count": 5,
   "id": "167d0967",
   "metadata": {},
   "outputs": [
    {
     "name": "stdout",
     "output_type": "stream",
     "text": [
      " Pythonis easy to learn\n",
      " Python Python Python\n",
      "====================\n"
     ]
    }
   ],
   "source": [
    "#문자열 연산\n",
    "a1 =' Python'\n",
    "a2='is easy to learn'\n",
    "print(a1 + a2)\n",
    "print(a1 *3)\n",
    "print(\"=\" * 20)"
   ]
  },
  {
   "cell_type": "code",
   "execution_count": 9,
   "id": "0e26ee7f",
   "metadata": {},
   "outputs": [
    {
     "name": "stdout",
     "output_type": "stream",
     "text": [
      "[1, 'a', 'abc', [1, 2, 3, 4, 5], ['a', 'b', 'c']]\n"
     ]
    }
   ],
   "source": [
    "#자료형-List\n",
    "#리스트는 []로 표시되며 []안의 요소를 콤머로 구분하여 순서있게 나열\n",
    "list1=[1,2,3,4,5]\n",
    "list2=['a','b','c']\n",
    "list3=[1,'a','abc',[1,2,3,4,5],['a','b','c']]\n",
    "print(list3)"
   ]
  },
  {
   "cell_type": "code",
   "execution_count": 17,
   "id": "c88cd57b",
   "metadata": {},
   "outputs": [
    {
     "name": "stdout",
     "output_type": "stream",
     "text": [
      "[1, 2, 3, 4, 5]\n",
      "3\n",
      "5\n",
      "b\n"
     ]
    }
   ],
   "source": [
    "#인덱싱\n",
    "list1=[1,2,3,4,5]\n",
    "print(list1[:])\n",
    "print(list1[2])\n",
    "print(list3[3][4])\n",
    "print(list3[4][1])"
   ]
  },
  {
   "cell_type": "code",
   "execution_count": 20,
   "id": "adc6f959",
   "metadata": {},
   "outputs": [
    {
     "name": "stdout",
     "output_type": "stream",
     "text": [
      "[1, 1, 2, 3, 4, 5, 6, 7, 8, 9]\n",
      "['a', 'a', 'c']\n",
      "a c\n",
      "['a', 'c']\n"
     ]
    }
   ],
   "source": [
    "#리스트 수정, 삭제\n",
    "\n",
    "a = [0,1,2,3,4,5,6,7,8,9]\n",
    "b=['a','b','c']\n",
    "a[0] = 1\n",
    "b[1] = 'a'\n",
    "print(a)\n",
    "print(b)\n",
    "print(b[0],b[2])\n",
    "del b[1]\n",
    "print(b)"
   ]
  },
  {
   "cell_type": "code",
   "execution_count": 22,
   "id": "c22df45c",
   "metadata": {},
   "outputs": [
    {
     "name": "stdout",
     "output_type": "stream",
     "text": [
      "[0, 1, 2, 3, 4, 5, 6, 7, 8, 9, 'a', 'b', 'c']\n",
      "c\n",
      "b\n"
     ]
    }
   ],
   "source": [
    "a = [0,1,2,3,4,5,6,7,8,9]\n",
    "b=['a','b','c']\n",
    "c= a+b\n",
    "print(c)   \n",
    "print(c[-1])    # 인덱스 번호 -1은 인덱스의 가장 마지막 자리를 나타냄 ==> 앞에서부터 0,1,2.... 뒤에서부턴 ...-3,-2,-1\n",
    "print(c[-2])"
   ]
  },
  {
   "cell_type": "code",
   "execution_count": 26,
   "id": "f010b85c",
   "metadata": {},
   "outputs": [
    {
     "name": "stdout",
     "output_type": "stream",
     "text": [
      "[1, 2, 3, 4]\n",
      "[4, 3, 2, 1]\n"
     ]
    }
   ],
   "source": [
    "#정렬\n",
    "b=[2,4,3,1]\n",
    "b.sort()\n",
    "print(b)\n",
    "#내림차순\n",
    "b_d = sorted(b, reverse=True)\n",
    "print(b_d)\n"
   ]
  },
  {
   "cell_type": "code",
   "execution_count": 33,
   "id": "0c6af800",
   "metadata": {},
   "outputs": [
    {
     "name": "stdout",
     "output_type": "stream",
     "text": [
      "[9, 8, 7, 6, 5, 4, 3, 2, 2, 1, 1, 1]\n"
     ]
    }
   ],
   "source": [
    "s=[1,1,2,3,4,5,6,7,8,9,2,1]\n",
    "s_d = sorted(s, reverse=1)\n",
    "print(s_d)"
   ]
  },
  {
   "cell_type": "code",
   "execution_count": 35,
   "id": "e735c5d7",
   "metadata": {},
   "outputs": [
    {
     "name": "stdout",
     "output_type": "stream",
     "text": [
      "2\n"
     ]
    }
   ],
   "source": [
    "#인덱스 위치 반환\n",
    "c = [1,2,3,1,5]\n",
    "print(c.index(3))"
   ]
  },
  {
   "cell_type": "code",
   "execution_count": 49,
   "id": "82588a83",
   "metadata": {},
   "outputs": [
    {
     "name": "stdout",
     "output_type": "stream",
     "text": [
      "[26, 31, 91, 58, 1, 16, 21, 17, 9, 13, 91, 54, 18, 95, 94, 98, 76, 92, 51, 65, 67, 4, 98, 82, 9, 26, 69, 34, 93, 76, 6, 37, 17, 84, 78, 11, 34, 58, 4, 93, 18, 37, 72, 32, 92, 51, 7, 55, 70, 84, 16, 94, 98, 75, 21, 41, 78, 13, 5, 86, 85, 20, 72, 39, 8, 17, 82, 77, 27, 99, 94, 9, 7, 0, 78, 42, 48, 2, 68, 62, 18, 4, 26, 39, 69, 66, 13, 47, 3, 80, 84, 88, 3, 2, 15, 0, 46, 50, 27, 95]\n",
      "\n",
      "4\n",
      "1\n"
     ]
    }
   ],
   "source": [
    "import numpy as np\n",
    "c= np.random.randint(100, size=100).tolist()   #랜덤한 100개의 숫자를 리스트 형태로 설정\n",
    "print(c)\n",
    "print(\"\")\n",
    "print(c.index(1))\n",
    "print(c.count(1))"
   ]
  },
  {
   "cell_type": "code",
   "execution_count": 56,
   "id": "88c882f6",
   "metadata": {},
   "outputs": [
    {
     "name": "stdout",
     "output_type": "stream",
     "text": [
      "[1, 2, 3, 4, 5]\n",
      "[1, 2, 3, 4, 5, 6]\n",
      "[5, 1, 2, 3, 4, 5, 6]\n"
     ]
    }
   ],
   "source": [
    "#리스트 확장\n",
    "h=[1,2,3]\n",
    "h.extend([4,5])  #리스트 맨뒤에 추가\n",
    "print(h)\n",
    "#추가\n",
    "h.append(6)  #\n",
    "print(h)\n",
    "h.insert(0,5) #insert(인덱스 주소,추가할데이터)\n",
    "print(h)"
   ]
  },
  {
   "cell_type": "code",
   "execution_count": 73,
   "id": "1e5d86c4",
   "metadata": {},
   "outputs": [
    {
     "name": "stdout",
     "output_type": "stream",
     "text": [
      "(1, 2, 3, 4, 5)\n",
      "abc\n",
      "5\n",
      "b\n"
     ]
    }
   ],
   "source": [
    "#튜플\n",
    "\n",
    "tuple1 =(1,2,3,4,5)\n",
    "tuple2=('a','b','c')\n",
    "tuple3=(1,'a','abc',[1,2,3,4,5],['a','b','c'])\n",
    "\n",
    "print(tuple1[:])\n",
    "print(tuple3[2])\n",
    "print(tuple3[3][4])\n",
    "print(tuple3[4][1])\n"
   ]
  },
  {
   "cell_type": "code",
   "execution_count": 62,
   "id": "f58c0282",
   "metadata": {},
   "outputs": [
    {
     "ename": "TypeError",
     "evalue": "'set' object does not support item assignment",
     "output_type": "error",
     "traceback": [
      "\u001b[1;31m---------------------------------------------------------------------------\u001b[0m",
      "\u001b[1;31mTypeError\u001b[0m                                 Traceback (most recent call last)",
      "\u001b[1;32m~\\AppData\\Local\\Temp/ipykernel_21528/2333493321.py\u001b[0m in \u001b[0;36m<module>\u001b[1;34m\u001b[0m\n\u001b[1;32m----> 1\u001b[1;33m \u001b[0mtuple1\u001b[0m\u001b[1;33m[\u001b[0m\u001b[1;36m0\u001b[0m\u001b[1;33m]\u001b[0m\u001b[1;33m=\u001b[0m\u001b[1;36m6\u001b[0m\u001b[1;33m\u001b[0m\u001b[1;33m\u001b[0m\u001b[0m\n\u001b[0m\u001b[0;32m      2\u001b[0m \u001b[0mprint\u001b[0m\u001b[1;33m(\u001b[0m\u001b[0mtuple1\u001b[0m\u001b[1;33m)\u001b[0m\u001b[1;33m\u001b[0m\u001b[1;33m\u001b[0m\u001b[0m\n",
      "\u001b[1;31mTypeError\u001b[0m: 'set' object does not support item assignment"
     ]
    }
   ],
   "source": [
    "tuple1[0]=6\n",
    "print(tuple1)"
   ]
  },
  {
   "cell_type": "code",
   "execution_count": 70,
   "id": "e85db82e",
   "metadata": {},
   "outputs": [],
   "source": [
    "#자료형-Tuple\n",
    "#튜플의 요소값은 변경할 수 없음- 프로그램에서 그 값이 항상 변하지 않아야되는 경우 사용"
   ]
  },
  {
   "cell_type": "code",
   "execution_count": 74,
   "id": "f05ee795",
   "metadata": {},
   "outputs": [
    {
     "name": "stdout",
     "output_type": "stream",
     "text": [
      "(1,)\n",
      "(1, 2, 3)\n",
      "(1, 2, 3, 1, 2, 3, 1, 2, 3)\n",
      "(1, 1, 2, 3)\n",
      "1\n"
     ]
    },
    {
     "data": {
      "text/plain": [
       "int"
      ]
     },
     "execution_count": 74,
     "metadata": {},
     "output_type": "execute_result"
    }
   ],
   "source": [
    "t1=(1,)\n",
    "print(t1)\n",
    "t2 = 1,2,3\n",
    "print(t2)\n",
    "print(t2*3)\n",
    "t3 = t1 +t2\n",
    "print(t3)\n",
    "t4 =(1)\n",
    "print(t4)\n",
    "type(t4)"
   ]
  },
  {
   "cell_type": "code",
   "execution_count": 106,
   "id": "338cfe1e",
   "metadata": {},
   "outputs": [
    {
     "name": "stdout",
     "output_type": "stream",
     "text": [
      "1\n"
     ]
    },
    {
     "ename": "KeyError",
     "evalue": "1",
     "output_type": "error",
     "traceback": [
      "\u001b[1;31m---------------------------------------------------------------------------\u001b[0m",
      "\u001b[1;31mKeyError\u001b[0m                                  Traceback (most recent call last)",
      "\u001b[1;32m~\\AppData\\Local\\Temp/ipykernel_20744/2579373756.py\u001b[0m in \u001b[0;36m<module>\u001b[1;34m\u001b[0m\n\u001b[0;32m      2\u001b[0m \u001b[0md1\u001b[0m\u001b[1;33m=\u001b[0m\u001b[1;33m{\u001b[0m\u001b[1;34m'a'\u001b[0m\u001b[1;33m:\u001b[0m\u001b[1;36m1\u001b[0m\u001b[1;33m,\u001b[0m\u001b[1;34m\"b\"\u001b[0m\u001b[1;33m:\u001b[0m\u001b[1;36m2\u001b[0m\u001b[1;33m,\u001b[0m\u001b[1;34m\"c\"\u001b[0m\u001b[1;33m:\u001b[0m\u001b[1;36m3\u001b[0m\u001b[1;33m}\u001b[0m\u001b[1;33m\u001b[0m\u001b[1;33m\u001b[0m\u001b[0m\n\u001b[0;32m      3\u001b[0m \u001b[0mprint\u001b[0m\u001b[1;33m(\u001b[0m\u001b[0md1\u001b[0m\u001b[1;33m[\u001b[0m\u001b[1;34m\"a\"\u001b[0m\u001b[1;33m]\u001b[0m\u001b[1;33m)\u001b[0m\u001b[1;33m\u001b[0m\u001b[1;33m\u001b[0m\u001b[0m\n\u001b[1;32m----> 4\u001b[1;33m \u001b[0mprint\u001b[0m\u001b[1;33m(\u001b[0m\u001b[0md1\u001b[0m\u001b[1;33m[\u001b[0m\u001b[1;36m1\u001b[0m\u001b[1;33m]\u001b[0m\u001b[1;33m)\u001b[0m\u001b[1;33m\u001b[0m\u001b[1;33m\u001b[0m\u001b[0m\n\u001b[0m\u001b[0;32m      5\u001b[0m \u001b[0md1\u001b[0m\u001b[1;33m[\u001b[0m\u001b[1;34m'b'\u001b[0m\u001b[1;33m]\u001b[0m \u001b[1;33m=\u001b[0m \u001b[1;36m5\u001b[0m\u001b[1;33m\u001b[0m\u001b[1;33m\u001b[0m\u001b[0m\n\u001b[0;32m      6\u001b[0m \u001b[0mprint\u001b[0m\u001b[1;33m(\u001b[0m\u001b[0md1\u001b[0m\u001b[1;33m)\u001b[0m\u001b[1;33m\u001b[0m\u001b[1;33m\u001b[0m\u001b[0m\n",
      "\u001b[1;31mKeyError\u001b[0m: 1"
     ]
    }
   ],
   "source": [
    "#자료형-사전{키와 값을 하나의 요소로 하는 순서가 없는 집합}\n",
    "d1={'a':1,\"b\":2,\"c\":3}\n",
    "print(d1[\"a\"])\n",
    "d1['b'] = 5\n",
    "print(d1)"
   ]
  },
  {
   "cell_type": "code",
   "execution_count": 78,
   "id": "6844d5d0",
   "metadata": {},
   "outputs": [
    {
     "name": "stdout",
     "output_type": "stream",
     "text": [
      "dict_keys(['a', 'b', 'c'])\n",
      "dict_values([1, 5, 3])\n",
      "dict_items([('a', 1), ('b', 5), ('c', 3)])\n"
     ]
    }
   ],
   "source": [
    "print(d1.keys())  #키값만 뽑아 볼 수 있다.\n",
    "print(d1.values())  #값만 뽑아 볼 수 있다.\n",
    "print(d1.items())  #키와 값의 형태로 볼 수 있다."
   ]
  },
  {
   "cell_type": "code",
   "execution_count": 82,
   "id": "0a7c62b8",
   "metadata": {},
   "outputs": [
    {
     "name": "stdout",
     "output_type": "stream",
     "text": [
      "{'a': 0, 'b': 0, 'c': 0}\n",
      "값을 입력하시오: 101\n",
      "값을 입력하시오: 10\n",
      "값을 입력하시오: 10\n",
      "dict_keys(['a', 'b', 'c'])\n",
      "dict_values(['101', '10', '10'])\n",
      "dict_items([('a', '101'), ('b', '10'), ('c', '10')])\n"
     ]
    }
   ],
   "source": [
    "#연습-사전만들기\n",
    "\n",
    "dir={'a':0,'b':0,'c':0,}\n",
    "print(dir)\n",
    "dir['a']=input(\"값을 입력하시오: \")\n",
    "dir['b']=input(\"값을 입력하시오: \")\n",
    "dir['c']=input(\"값을 입력하시오: \")\n",
    "print(dir.keys())\n",
    "print(dir.values())\n",
    "print(dir.items())"
   ]
  },
  {
   "cell_type": "code",
   "execution_count": 86,
   "id": "89ffc80a",
   "metadata": {},
   "outputs": [
    {
     "name": "stdout",
     "output_type": "stream",
     "text": [
      "{1, 2, 3, 4, 5}\n",
      "{'H', 'l', 'e', 'o'}\n"
     ]
    }
   ],
   "source": [
    "#자료형- 집합,set(중복을 허용하지 않으며 순서가 없다.)\n",
    "s1 =set([1,2,5,4,3])  #중복이 없으므로 그대로 나오나 순서는 랜덤\n",
    "s2 =set('Hello')  #\"l\" 이 중복이므로 하나만 나온다\n",
    "print(s1)\n",
    "print(s2)\n"
   ]
  },
  {
   "cell_type": "code",
   "execution_count": 89,
   "id": "15de381e",
   "metadata": {},
   "outputs": [
    {
     "name": "stdout",
     "output_type": "stream",
     "text": [
      "2\n",
      "l\n"
     ]
    }
   ],
   "source": [
    "#집합은 인덱싱으로 값을 얻을 수 없으며 필요시 리스트나 튜플로 변환 후 인덱싱\n",
    "l1 = list(s1)\n",
    "print(l1[1])\n",
    "l2 = list(s2)\n",
    "print(l2[1])"
   ]
  },
  {
   "cell_type": "code",
   "execution_count": 96,
   "id": "f811b0ae",
   "metadata": {},
   "outputs": [
    {
     "name": "stdout",
     "output_type": "stream",
     "text": [
      "{1, 2, 3, 4, 5, 6, 7, 8, 9}\n",
      "{4, 5, 6}\n",
      "{1, 2, 3, 4, 5, 6, 7, 8, 9}\n",
      "{4, 5, 6}\n"
     ]
    }
   ],
   "source": [
    "#연습\n",
    "#Q. s1, s2의 합집합과 교집합을 각각 리스트와 튜플로 출력하세요.\n",
    "# 합집합(s1|s2) 교집합(s1&s2)\n",
    "s1 =set([1,2,3,4,5,6])\n",
    "s2 = set([4,5,6,7,8,9])\n",
    "\n",
    "l1=list(s1)\n",
    "l2=list(s2)\n",
    "\n",
    "print(s1|s2)\n",
    "print(s1&s2)\n",
    "\n",
    "a= (s1|s2)\n",
    "b= (s1&s2)\n",
    "\n",
    "print(a)\n",
    "print(b)\n"
   ]
  },
  {
   "cell_type": "code",
   "execution_count": 98,
   "id": "4b772afd",
   "metadata": {},
   "outputs": [
    {
     "name": "stdout",
     "output_type": "stream",
     "text": [
      "[1, 2, 3, 4, 5, 6]\n",
      "(1, 2, 3, 4, 5, 6)\n"
     ]
    }
   ],
   "source": [
    "#연습- 자료형 바꾸는 연습\n",
    "s1=set([1,2,4,6,3,4,5])\n",
    "#set==>list\n",
    "l1=list(s1)\n",
    "print(l1)\n",
    "#set==>tuple\n",
    "t1=tuple(s1)\n",
    "print(t1)\n",
    "#set==>"
   ]
  },
  {
   "cell_type": "code",
   "execution_count": 99,
   "id": "fe54b555",
   "metadata": {},
   "outputs": [
    {
     "name": "stdout",
     "output_type": "stream",
     "text": [
      "a가 li에 있습니다.\n"
     ]
    }
   ],
   "source": [
    "#들여쓰기\n",
    "li=['a','b','c']\n",
    "if 'a'in li:\n",
    "    print(\"a가 li에 있습니다.\")\n",
    "else:\n",
    "    print(\"a가 li에 없습니다.\")\n",
    "    "
   ]
  },
  {
   "cell_type": "code",
   "execution_count": 102,
   "id": "3f97407d",
   "metadata": {},
   "outputs": [
    {
     "data": {
      "text/plain": [
       "'나의 이름은 홍길동입니다. 나이는 30 입니다.'"
      ]
     },
     "execution_count": 102,
     "metadata": {},
     "output_type": "execute_result"
    }
   ],
   "source": [
    "# 문자열 포멧\n",
    "name = '홍길동'\n",
    "age = 30\n",
    "f'나의 이름은 {name}입니다. 나이는 {age} 입니다.'"
   ]
  },
  {
   "cell_type": "code",
   "execution_count": 104,
   "id": "f2b3285a",
   "metadata": {},
   "outputs": [
    {
     "data": {
      "text/plain": [
       "'나의 이름은 홍길동입니다. 나이는30입니다.'"
      ]
     },
     "execution_count": 104,
     "metadata": {},
     "output_type": "execute_result"
    }
   ],
   "source": [
    "d={'name':'홍길동','age':30}\n",
    "f'나의 이름은 {d[\"name\"]}입니다. 나이는{d[\"age\"]}입니다.'"
   ]
  },
  {
   "cell_type": "code",
   "execution_count": 107,
   "id": "98b30844",
   "metadata": {},
   "outputs": [
    {
     "data": {
      "text/plain": [
       "'3.1416'"
      ]
     },
     "execution_count": 107,
     "metadata": {},
     "output_type": "execute_result"
    }
   ],
   "source": [
    "y=3.141592\n",
    "f'{y:0.4f}'   #소수점 4자리까지만 표현"
   ]
  },
  {
   "cell_type": "code",
   "execution_count": 113,
   "id": "c3b9af40",
   "metadata": {},
   "outputs": [
    {
     "data": {
      "text/plain": [
       "'    3.1416'"
      ]
     },
     "execution_count": 113,
     "metadata": {},
     "output_type": "execute_result"
    }
   ],
   "source": [
    "y=3.141592\n",
    "f'{y:10.4f}'    #소수점 4자리까지 표시하고 총자리수를 10으로 맞춤"
   ]
  },
  {
   "cell_type": "code",
   "execution_count": 115,
   "id": "bb518086",
   "metadata": {},
   "outputs": [
    {
     "name": "stdout",
     "output_type": "stream",
     "text": [
      "홍길동 선수가 1등입니다.\n",
      "홍길동 선수가 1등입니다.\n"
     ]
    }
   ],
   "source": [
    "#포멧함수\n",
    "f1 = \"{} 선수가 {}등입니다.\".format('홍길동',1)\n",
    "# f1 = \"{1} 선수가 {0} 등입니다.\".format(1,\"홍길동\")  ==>{}중괄호 안에 숫자를 넣어 순서를 정해줘도 됌\n",
    "print(f1)\n",
    "print(\"%s 선수가 %d등입니다.\" %(\"홍길동\",1))\n"
   ]
  },
  {
   "cell_type": "code",
   "execution_count": 123,
   "id": "8dda16b6",
   "metadata": {},
   "outputs": [
    {
     "name": "stdout",
     "output_type": "stream",
     "text": [
      "파이썬은 자바보다 2배 더 쉽습니다.\n",
      "파이썬은 자바보다 2배 더 쉽습니다.\n",
      "파이썬은 자바보다 2배 더 쉽습니다.\n"
     ]
    }
   ],
   "source": [
    "#연습-파이썬은 자바보다 2배 쉽습니다.\n",
    "\n",
    "f1 = \"{}은 {}보다 {}배 더 쉽습니다.\".format('파이썬','자바',2)\n",
    "print(f1)\n",
    "f1 = \"{1}은 {2}보다 {0}배 더 쉽습니다.\".format(2,'파이썬','자바')\n",
    "print(f1)\n",
    "f1 = (\"%s은 %s보다 %d배 더 쉽습니다.\"%('파이썬','자바',2))\n",
    "print(f1)"
   ]
  },
  {
   "cell_type": "markdown",
   "id": "906f9a95",
   "metadata": {},
   "source": [
    "#[과제]-아래와 같이 출력하세요.\n",
    "12345\n",
    "     12345\n",
    "12.345679\n",
    "         12.346"
   ]
  },
  {
   "cell_type": "code",
   "execution_count": 143,
   "id": "ce66617e",
   "metadata": {},
   "outputs": [
    {
     "name": "stdout",
     "output_type": "stream",
     "text": [
      "12345\n",
      "     12345\n",
      "12.3456789\n",
      "           12.3456\n"
     ]
    }
   ],
   "source": [
    "#과제1\n",
    "\n",
    "a=123456789\n",
    "a_s=str(a)\n",
    "print(a_s[0:5])\n",
    "c= \"%10s\" % a_s[0:5]\n",
    "print(c)\n",
    "a=a/10000000\n",
    "print(a)\n",
    "a_s=str(a)\n",
    "c= \"%18s\" % a_s[0:7]\n",
    "print(c)"
   ]
  },
  {
   "cell_type": "code",
   "execution_count": 149,
   "id": "3ac17a9c",
   "metadata": {},
   "outputs": [
    {
     "ename": "SyntaxError",
     "evalue": "unexpected EOF while parsing (Temp/ipykernel_21528/2955847771.py, line 8)",
     "output_type": "error",
     "traceback": [
      "\u001b[1;36m  File \u001b[1;32m\"C:\\Users\\ns2ju\\AppData\\Local\\Temp/ipykernel_21528/2955847771.py\"\u001b[1;36m, line \u001b[1;32m8\u001b[0m\n\u001b[1;33m    print(a)\u001b[0m\n\u001b[1;37m            ^\u001b[0m\n\u001b[1;31mSyntaxError\u001b[0m\u001b[1;31m:\u001b[0m unexpected EOF while parsing\n"
     ]
    }
   ],
   "source": [
    "#과제1-1\n",
    "\n",
    "a=\"123456789\" #리스트처럼 본다.\n",
    "print(a[0:5])\n",
    "c= \"%10s\" % a[0:5]\n",
    "print(c)\n",
    "print(a)"
   ]
  },
  {
   "cell_type": "code",
   "execution_count": 150,
   "id": "22ebbe0c",
   "metadata": {},
   "outputs": [
    {
     "name": "stdout",
     "output_type": "stream",
     "text": [
      "저축증가\n"
     ]
    }
   ],
   "source": [
    "#제어문 if~elif~else\n",
    "#수입과 지출금액을 비교해서 수입이 많으면 저축 증가, 반대면 빚이 증가 같으면 현상유지\n",
    "\n",
    "i=5000000\n",
    "e=3000000\n",
    "\n",
    "if i>e:\n",
    "    print(\"저축증가\")\n",
    "elif i<e:\n",
    "    print(\"빚이 증가\")\n",
    "else:\n",
    "    print(\"현상 유지\")"
   ]
  },
  {
   "cell_type": "code",
   "execution_count": 154,
   "id": "eb5492cb",
   "metadata": {},
   "outputs": [
    {
     "name": "stdout",
     "output_type": "stream",
     "text": [
      "5 15 6 20 7 25 "
     ]
    }
   ],
   "source": [
    "#for 반복문\n",
    "numbers=[5,15,6,20,7,25]\n",
    "for number in numbers:     #numbers에서 number을 출력\n",
    "    print(number, end=' ')"
   ]
  },
  {
   "cell_type": "code",
   "execution_count": 194,
   "id": "1f804007",
   "metadata": {},
   "outputs": [
    {
     "name": "stdout",
     "output_type": "stream",
     "text": [
      "1 2 3 4 5 "
     ]
    }
   ],
   "source": [
    "#for~continue~break\n",
    "#1~10까지 범위의 정수에서 1부터 5까지만 출력하세요.\n",
    "for i in range(1,11):\n",
    "    print(i,end=\" \")\n",
    "    if i< 5:\n",
    "        continue\n",
    "    else:\n",
    "        break"
   ]
  },
  {
   "cell_type": "code",
   "execution_count": 213,
   "id": "40fe80bc",
   "metadata": {},
   "outputs": [
    {
     "name": "stdout",
     "output_type": "stream",
     "text": [
      "15 20 25 "
     ]
    }
   ],
   "source": [
    "# numbers 리스트에서 15,20,25를 출력하세요.(for문과 if문 사용 필수)\n",
    "\n",
    "numbers = [5,15,6,20,7,25]\n",
    "\n",
    "for i in range(0,6):\n",
    "    if(numbers[i]>=15):\n",
    "        print(numbers[i],end=\" \")\n",
    "        "
   ]
  },
  {
   "cell_type": "code",
   "execution_count": 2,
   "id": "55915d96",
   "metadata": {},
   "outputs": [
    {
     "name": "stdout",
     "output_type": "stream",
     "text": [
      "46 1035\n"
     ]
    }
   ],
   "source": [
    "#while\n",
    "# 정수 1~n까지 더할 때 그 합이 1000보다 커지게 되는 n과 합을 구하시오.\n",
    "\n",
    "x=1\n",
    "sum=0\n",
    "while 1:\n",
    "    sum+=x\n",
    "    x+=1\n",
    "    if sum>1000:\n",
    "        print(x,sum)\n",
    "        break"
   ]
  },
  {
   "cell_type": "code",
   "execution_count": 5,
   "id": "7c13369a",
   "metadata": {},
   "outputs": [
    {
     "name": "stdout",
     "output_type": "stream",
     "text": [
      "166833\n"
     ]
    }
   ],
   "source": [
    "#연습 while문을 사용해서 1부터 1000까지 정수중에서 3의 배수의 합을 구해보세요.\n",
    "\n",
    "x=1\n",
    "sum=0\n",
    "\n",
    "while 1:\n",
    "    x+=1\n",
    "    if(x%3==0):\n",
    "        sum+=x\n",
    "    if(x>=1000):\n",
    "        print(sum)\n",
    "        break"
   ]
  },
  {
   "cell_type": "code",
   "execution_count": 8,
   "id": "df6f4285",
   "metadata": {},
   "outputs": [
    {
     "name": "stdout",
     "output_type": "stream",
     "text": [
      "166833\n"
     ]
    }
   ],
   "source": [
    "#연습 while문을 사용해서 1부터 1000까지 정수중에서 3의 배수의 합을 구해보세요.\n",
    "\n",
    "x=1\n",
    "sum=0\n",
    "\n",
    "while x<1000:\n",
    "    x+=1\n",
    "    if(x%3==0):\n",
    "        sum+=x\n",
    "print(sum)\n"
   ]
  },
  {
   "cell_type": "markdown",
   "id": "2f419a7e",
   "metadata": {},
   "source": [
    "### 과제\n",
    "#### 1부터 100까지 정수 중 5에서 95까지의 합을 구하세요."
   ]
  },
  {
   "cell_type": "code",
   "execution_count": 14,
   "id": "597f394d",
   "metadata": {},
   "outputs": [
    {
     "name": "stdout",
     "output_type": "stream",
     "text": [
      "4550\n"
     ]
    }
   ],
   "source": [
    "a=1\n",
    "sum=0\n",
    "\n",
    "while a<1000:\n",
    "    a+=1\n",
    "    if(a>=5) and (a<=95):\n",
    "        sum+=a\n",
    "print(sum)"
   ]
  },
  {
   "cell_type": "code",
   "execution_count": 189,
   "id": "4f02ef60",
   "metadata": {},
   "outputs": [
    {
     "name": "stdout",
     "output_type": "stream",
     "text": [
      "몫은 2, 나머지는 1입니다.\n"
     ]
    }
   ],
   "source": [
    "#연습: 5를 2로 나눴을때 몫과 나머지를 구하시오\n",
    "a=5//2\n",
    "b=5%2\n",
    "print(\"몫은 %d, 나머지는 %d입니다.\"%(a,b))\n",
    "      "
   ]
  },
  {
   "cell_type": "code",
   "execution_count": 168,
   "id": "c24d6770",
   "metadata": {},
   "outputs": [
    {
     "name": "stdout",
     "output_type": "stream",
     "text": [
      "Python3.8.3\n"
     ]
    }
   ],
   "source": [
    "#연습-Python과 3.8.3을 합쳐서 Python 3.8.3을 출력하시오\n",
    "\n",
    "print(\"Python\" + \"3.8.3\")"
   ]
  },
  {
   "cell_type": "code",
   "execution_count": 169,
   "id": "4e4e12c5",
   "metadata": {},
   "outputs": [
    {
     "data": {
      "text/plain": [
       "int"
      ]
     },
     "execution_count": 169,
     "metadata": {},
     "output_type": "execute_result"
    }
   ],
   "source": [
    "#연습-a=2, a='10' a=15 일때 a의 자료형은 무엇인가?\n",
    "\n",
    "a=2\n",
    "a='10'\n",
    "a=15\n",
    "type(a)"
   ]
  },
  {
   "cell_type": "code",
   "execution_count": 173,
   "id": "18b546d6",
   "metadata": {},
   "outputs": [
    {
     "name": "stdout",
     "output_type": "stream",
     "text": [
      "2\n"
     ]
    }
   ],
   "source": [
    "#연습- 5의 3승을 3으로 나누었을때의 나머지를 복합 대입 연산자를 이용해서 구하세요\n",
    "\n",
    "a=5\n",
    "a*=5\n",
    "a*=5\n",
    "a%=3\n",
    "print(a)"
   ]
  },
  {
   "cell_type": "code",
   "execution_count": 179,
   "id": "9c9bb642",
   "metadata": {},
   "outputs": [
    {
     "name": "stdout",
     "output_type": "stream",
     "text": [
      "이름을 입력하세요: dd\n",
      "이름은 dd입니다.\n"
     ]
    }
   ],
   "source": [
    "#연습-이름을 물어보고 답하는 내용을 출력하세요\n",
    "a=input(\"이름을 입력하세요: \")\n",
    "print(\"이름은 %s입니다.\"%a)"
   ]
  },
  {
   "cell_type": "code",
   "execution_count": 185,
   "id": "39604fde",
   "metadata": {},
   "outputs": [
    {
     "name": "stdout",
     "output_type": "stream",
     "text": [
      "첫번째 숫자를 입력: 1\n",
      "두번째 숫자를 입력: 2\n",
      "세번째 숫자를 입력: 3\n",
      "0\n"
     ]
    }
   ],
   "source": [
    "#연습-숫자3개를 입력해서 첫번째 숫자를 두번째 숫자 승한 뒤에 세번째 숫자로 나눴을 때 몫을 구하시오\n",
    "\n",
    "num1=input(\"첫번째 숫자를 입력: \")\n",
    "num2=input(\"두번째 숫자를 입력: \")\n",
    "num3=input(\"세번째 숫자를 입력: \")\n",
    "\n",
    "num1=int(num1)\n",
    "num2=int(num2)\n",
    "num3=int(num3)\n",
    "\n",
    "print((num1**num2)//num3)"
   ]
  },
  {
   "cell_type": "markdown",
   "id": "91394f60",
   "metadata": {},
   "source": [
    "# 과제"
   ]
  },
  {
   "cell_type": "code",
   "execution_count": 2,
   "id": "6b9daacf",
   "metadata": {},
   "outputs": [
    {
     "name": "stdout",
     "output_type": "stream",
     "text": [
      "33165\n"
     ]
    }
   ],
   "source": [
    "#Q1. while문을 사용해 1부터 1000까지 정수 중 3과 5의 공배수의 합을 구해 보세요.\n",
    "a=1\n",
    "sum=0\n",
    "while a<1000:\n",
    "    a+=1\n",
    "    if (a%3==0) and (a%5==0):\n",
    "        sum+=a\n",
    "        \n",
    "print(sum)"
   ]
  },
  {
   "cell_type": "code",
   "execution_count": 9,
   "id": "994f7a5b",
   "metadata": {},
   "outputs": [
    {
     "name": "stdout",
     "output_type": "stream",
     "text": [
      "숫자를 입력하시오: 1\n",
      "숫자를 입력하시오: 2\n",
      "숫자를 입력하시오: 3\n",
      "숫자를 입력하시오: 4\n",
      "숫자를 입력하시오: 5\n",
      "12345"
     ]
    }
   ],
   "source": [
    "# Q2.1부터 5까지 입력해서 12345를 출력하세요\n",
    "\n",
    "l1=[0,0,0,0,0]\n",
    "\n",
    "for i in range(0,5):\n",
    "    l1[i]=input(\"숫자를 입력하시오: \")\n",
    "    i=i+1\n",
    "\n",
    "for a in l1:\n",
    "    print(a,end=\"\")"
   ]
  },
  {
   "cell_type": "code",
   "execution_count": 11,
   "id": "f7eb823c",
   "metadata": {},
   "outputs": [
    {
     "name": "stdout",
     "output_type": "stream",
     "text": [
      "[0, 1, 2, 3, 4, 5, 6, 7, 8, 'b', 'c']\n"
     ]
    }
   ],
   "source": [
    "#Q3. [0,1,2,3,4,5,6,7,8,9,'a','b','c']에서 9와 a를 삭제 후 리스트를 출력하세요.\n",
    "\n",
    "l1=[0,1,2,3,4,5,6,7,8,9,'a','b','c']\n",
    "\n",
    "del(l1[9])\n",
    "del(l1[9])\n",
    "\n",
    "print(l1)\n"
   ]
  },
  {
   "cell_type": "code",
   "execution_count": 12,
   "id": "94903cef",
   "metadata": {},
   "outputs": [
    {
     "name": "stdout",
     "output_type": "stream",
     "text": [
      "[0, 1, 2, 3, 4, 5, 6, 7, 8, 'b']\n"
     ]
    }
   ],
   "source": [
    "#Q4.'c'를 삭제 후 출력하세요\n",
    "del (l1[-1])\n",
    "print(l1)"
   ]
  },
  {
   "cell_type": "code",
   "execution_count": 14,
   "id": "45a6ecca",
   "metadata": {},
   "outputs": [
    {
     "name": "stdout",
     "output_type": "stream",
     "text": [
      "[9, 9, 8, 8, 5, 4, 4, 4, 3, 1]\n"
     ]
    }
   ],
   "source": [
    "#Q5. [4,8,5,4,8,4,3,9,1,9]를 내림차순으로 정렬\n",
    "\n",
    "n1=[4,8,5,4,8,4,3,9,1,9]\n",
    "n1_d = sorted(n1, reverse=1)\n",
    "print(n1_d)"
   ]
  },
  {
   "cell_type": "code",
   "execution_count": 96,
   "id": "0120fbee",
   "metadata": {},
   "outputs": [
    {
     "name": "stdout",
     "output_type": "stream",
     "text": [
      "1640790853.5693944\n",
      "2022.0\n",
      "0.0\n",
      "9.999999999999261\n",
      "15.0\n",
      "14.0\n",
      "13.56939435005188\n"
     ]
    }
   ],
   "source": [
    "#Q6.format 함수를 이용해서 다음과 같은 형식으로 현재 날짜와 시간을 출력하세요\n",
    "# 2021년 12월 29일 15시 47분 30초\n",
    "\n",
    "import time\n",
    "\n",
    "t=time.time()\n",
    "print(t)\n",
    "now_year=(1970 + t//(365*24*3600)) ##timestemp를 이용해서 년도 출력(1970년부터 초시작)\n",
    "print(now_year)\n",
    "now_month=(t//((365/12)*24*3600)%12)\n",
    "print(now_month)\n",
    "now_date=((t//(24*3600))%(365/12))\n",
    "print(now_date)\n",
    "now_hour=(t//3600)%24\n",
    "print(now_hour)\n",
    "now_min=(t//60%60)\n",
    "print(now_min)\n",
    "now_sec=(t%60)\n",
    "print(now_sec)"
   ]
  },
  {
   "cell_type": "code",
   "execution_count": 95,
   "id": "0d25a5ad",
   "metadata": {},
   "outputs": [
    {
     "name": "stdout",
     "output_type": "stream",
     "text": [
      "2021년 12월 30일 0시 12분 32초\n"
     ]
    }
   ],
   "source": [
    "#Q6.format 함수를 이용해서 다음과 같은 형식으로 현재 날짜와 시간을 출력하세요\n",
    "# 2021년 12월 29일 15시 47분 30초\n",
    "\n",
    "import time\n",
    "\n",
    "tm = time.localtime(time.time())\n",
    "\n",
    "print(\"%d년 %d월 %d일 %d시 %d분 %d초\"%(tm.tm_year,tm.tm_mon,tm.tm_mday,tm.tm_hour,tm.tm_min,tm.tm_sec))\n",
    "\n",
    "\n",
    "#print(\"year:\", tm.tm_year)\n",
    "#print(\"month:\", tm.tm_mon)\n",
    "#print(\"day:\", tm.tm_mday)\n",
    "#print(\"hour:\", tm.tm_hour)\n",
    "#print(\"minute:\", tm.tm_min)\n",
    "#print(\"second:\", tm.tm_sec)"
   ]
  },
  {
   "cell_type": "code",
   "execution_count": 97,
   "id": "10eba0c6",
   "metadata": {},
   "outputs": [
    {
     "name": "stdout",
     "output_type": "stream",
     "text": [
      "오전입니다.\n"
     ]
    }
   ],
   "source": [
    "#Q7.현재 시각을 오전과 오후로 구분하는 프로그램을 작성하게요.\n",
    "\n",
    "time_now=tm.tm_hour\n",
    "\n",
    "if(time_now>12):\n",
    "    print(\"오후입니다.\")\n",
    "else:\n",
    "    print(\"오전입니다.\")\n",
    "    "
   ]
  },
  {
   "cell_type": "code",
   "execution_count": 100,
   "id": "6f306948",
   "metadata": {},
   "outputs": [
    {
     "name": "stdout",
     "output_type": "stream",
     "text": [
      "정수를 입력해주세요: 3\n",
      "홀수입니다.\n"
     ]
    }
   ],
   "source": [
    "#Q8.정수를 입력하면 홀수 짝수를 판별하는 프로그램 작성\n",
    "\n",
    "a=input(\"정수를 입력해주세요: \")\n",
    "a=int(a)\n",
    "if(a%2==0):\n",
    "    print(\"짝수입니다.\")\n",
    "else:\n",
    "    print(\"홀수입니다.\")"
   ]
  },
  {
   "cell_type": "code",
   "execution_count": 123,
   "id": "a5702bc2",
   "metadata": {},
   "outputs": [
    {
     "name": "stdout",
     "output_type": "stream",
     "text": [
      "태어난 연도를 입력해주세요: 98\n",
      "2\n",
      "호랑이\n",
      "당신의 띠는: 호랑이\n"
     ]
    }
   ],
   "source": [
    "#Q9.태어난 연도를 입력받아 띠를 출력하는 프로그램을 작성하세요\n",
    "# 원숭이, 닭, 개, 돼지, 쥐, 소, 범, 토끼, 용, 뱀, 말, 양띠\n",
    "\n",
    "di={\"쥐\":0, \"소\":1, \"호랑이\":2,\"토끼\":3,\"용\":4,\"뱀\":5,\"말\":6,\"양\":7, \"원숭이\":8,\"닭\":9,\"개\":10,\"돼지\":11}\n",
    "\n",
    "age=input(\"태어난 연도를 입력해주세요: \")\n",
    "age=int(age)\n",
    "age1=age%100%12\n",
    "print(age1)    #입력받은값을 인덱스로 만들기\n",
    "\n",
    "list_of_key = list(di.keys())    #디랙셔리 키값을 리스트화 하기\n",
    "print(list_of_key[age1])\n",
    "\n",
    "print(\"당신의 띠는:\",list_of_key[age1])"
   ]
  },
  {
   "cell_type": "code",
   "execution_count": 138,
   "id": "b1f1f0bb",
   "metadata": {},
   "outputs": [
    {
     "name": "stdout",
     "output_type": "stream",
     "text": [
      "12\n",
      "겨울입니다. 겨울에는 붕어빵이죠\n"
     ]
    }
   ],
   "source": [
    "#Q10. 계절 구분 프로그램\n",
    "#각 계절별 출력 멘트는 계절에 맞게 창작\n",
    "#if 조건문으로 datetime 모듈을 import해서 datetime.now 함수를 사용해서 작성\n",
    "\n",
    "import datetime\n",
    "\n",
    "t = datetime.datetime.now()\n",
    "t=t.month\n",
    "print(t)\n",
    "\n",
    "if(t==11) or (t == 12) or (t==1) or (t==2):\n",
    "    print(\"겨울입니다. 겨울에는 붕어빵이죠\")\n",
    "if(t>=3) and (t<=4):\n",
    "    print(\"봄입니다. 미세먼지 조심하세요*^^*\")\n",
    "if(t>=5) and (t<=8):\n",
    "    print(\"여름입니다. 올해도 최고기온 갱신!\")\n",
    "if(t>=9) and (t<=10):\n",
    "    print(\"가을입니다. 순식간에 지나가요\")\n",
    "    "
   ]
  },
  {
   "cell_type": "code",
   "execution_count": 124,
   "id": "efb50984",
   "metadata": {},
   "outputs": [
    {
     "data": {
      "text/plain": [
       "12"
      ]
     },
     "execution_count": 124,
     "metadata": {},
     "output_type": "execute_result"
    }
   ],
   "source": [
    "import datetime\n",
    "t = datetime.datetime.now()\n",
    "t.month"
   ]
  },
  {
   "cell_type": "code",
   "execution_count": 139,
   "id": "d9c71536",
   "metadata": {},
   "outputs": [],
   "source": [
    "#Q11.람다 함수를 이용해서 a의 b제곱을 구하는 식을 만들고\n",
    "# a, b가 아래와 같이 주어졌을 때 각각의 값을 구하세요. \n",
    "# a = 2, b = 5\n",
    "# a= 5, b = 2"
   ]
  },
  {
   "cell_type": "code",
   "execution_count": 1,
   "id": "cada9365",
   "metadata": {},
   "outputs": [
    {
     "name": "stdout",
     "output_type": "stream",
     "text": [
      "커피를 뽑겠습니까? [y/n]y\n",
      "돈을 넣어주세요: 600\n",
      "거스름돈 300원과 커피 나왔습니다.\n",
      "커피를 뽑겠습니까? [y/n]y\n",
      "돈을 넣어주세요: 1000\n",
      "거스름돈 700원과 커피 나왔습니다.\n",
      "커피를 뽑겠습니까? [y/n]y\n",
      "돈을 넣어주세요: 700\n",
      "거스름돈 400원과 커피 나왔습니다.\n",
      "커피를 뽑겠습니까? [y/n]y\n",
      "돈을 넣어주세요: 6000\n",
      "거스름돈 5700원과 커피 나왔습니다.\n",
      "커피를 뽑겠습니까? [y/n]y\n",
      "돈을 넣어주세요: 800\n",
      "거스름돈 500원과 커피 나왔습니다.\n",
      "지금은 커피 재고가 없습니다.\n"
     ]
    }
   ],
   "source": [
    "#Q12. 커피 자판기 프로그램\n",
    "# 시나리오 : 자판기 커피 재고 5잔, 커피 1잔 가격 300원, 재고 범위내에서 300원 이상\n",
    "#돈을 넣으면 거스름돈과 커피를 주고 그렇지 않으면 반환하며 재고가 소진되면 \n",
    "#안내멘트 출력    각 Case별 멘트 출력은 상황에 맞게 창작\n",
    "#while, if ~ elif ~ else 제어문을 사용하여 작성\n",
    "\n",
    "\n",
    "coffe_stock=5\n",
    "coffe_price=300\n",
    "while coffe_stock > 0:\n",
    "    a=input(\"커피를 뽑겠습니까? [y/n]\")\n",
    "\n",
    "    if(a == \"n\"):\n",
    "        break\n",
    "    if(a == \"y\"):\n",
    "        input_money=input(\"돈을 넣어주세요: \")\n",
    "        input_money = int(input_money)\n",
    "        out_money=(input_money - 300) \n",
    "        print(\"거스름돈 %d원과 커피 나왔습니다.\"%out_money)\n",
    "        coffe_stock -=1\n",
    "    \n",
    "print(\"지금은 커피 재고가 없습니다.\")\n",
    "    \n"
   ]
  }
 ],
 "metadata": {
  "kernelspec": {
   "display_name": "Python 3 (ipykernel)",
   "language": "python",
   "name": "python3"
  },
  "language_info": {
   "codemirror_mode": {
    "name": "ipython",
    "version": 3
   },
   "file_extension": ".py",
   "mimetype": "text/x-python",
   "name": "python",
   "nbconvert_exporter": "python",
   "pygments_lexer": "ipython3",
   "version": "3.8.12"
  }
 },
 "nbformat": 4,
 "nbformat_minor": 5
}
